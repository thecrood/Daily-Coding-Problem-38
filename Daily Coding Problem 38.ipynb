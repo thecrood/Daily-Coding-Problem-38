{
 "cells": [
  {
   "cell_type": "markdown",
   "id": "b88fec46",
   "metadata": {},
   "source": [
    "# Daily Coding Problem 38"
   ]
  },
  {
   "cell_type": "raw",
   "id": "4baca864",
   "metadata": {},
   "source": [
    "This problem was asked by Microsoft.\n",
    "\n",
    "You have an N by N board. Write a function that, given N, returns the number of possible arrangements of the board where N queens can be placed on the board without threatening each other, i.e. no two queens share the same row, column, or diagonal."
   ]
  },
  {
   "cell_type": "markdown",
   "id": "47641273",
   "metadata": {},
   "source": [
    "# Solution\n",
    "\n",
    "If we were to attempt to solve this problem using brute force, we would quickly find out that it would be prohibitively expensive. Consider a typical 8 by 8 board: we have 64 spots to place 8 queens, so that's 64 choose 8 possible placements. In general, that's factorial in runtime!\n",
    "\n",
    "This problem is ripe for solving with backtracking. In backtracking, we can visualize the search space like a tree, and we would explore it depth-first. Each node would be a possible configuration. If the configuration contains eight queens and is valid, then we're done and we can add it to our count. Otherwise, we can try to place another queen somewhere on the board and search from there. If we encounter an invalid board, then we can just prune the entire subtree from our search -- there's no point in exploring a board that we know won't work.\n",
    "\n",
    "Notice we can pare down the search space by ensuring we only place queens in distinct rows, since we know that two queens can never occupy the same row.\n",
    "\n",
    "Now we can just represent the board as a one-dimensional array of max size N, where each value represents which column the queen is on. For example, one solution for N = 4 would just be [1, 3, 0, 2]."
   ]
  },
  {
   "cell_type": "code",
   "execution_count": 3,
   "id": "7add2498",
   "metadata": {},
   "outputs": [],
   "source": [
    "def n_queens(n, board=[]):\n",
    "    if n == len(board):\n",
    "        return 1\n",
    "\n",
    "    count = 0\n",
    "    for col in range(n):\n",
    "        board.append(col)\n",
    "        if is_valid(board):\n",
    "            count += n_queens(n, board)\n",
    "        board.pop()\n",
    "    return count\n",
    "\n",
    "def is_valid(board):\n",
    "    current_queen_row, current_queen_col = len(board) - 1, board[-1]\n",
    "    # Iterate over all already-placed queens and check if any of them can attack\n",
    "    # each other.\n",
    "    for row, col in enumerate(board[:-1]):\n",
    "        diff = abs(current_queen_col - col)\n",
    "        if diff == 0 or diff == current_queen_row - row:\n",
    "            return False\n",
    "    return True"
   ]
  },
  {
   "cell_type": "code",
   "execution_count": null,
   "id": "8bb067cf",
   "metadata": {},
   "outputs": [],
   "source": []
  },
  {
   "cell_type": "code",
   "execution_count": null,
   "id": "a01fd316",
   "metadata": {},
   "outputs": [],
   "source": []
  }
 ],
 "metadata": {
  "kernelspec": {
   "display_name": "Python 3 (ipykernel)",
   "language": "python",
   "name": "python3"
  },
  "language_info": {
   "codemirror_mode": {
    "name": "ipython",
    "version": 3
   },
   "file_extension": ".py",
   "mimetype": "text/x-python",
   "name": "python",
   "nbconvert_exporter": "python",
   "pygments_lexer": "ipython3",
   "version": "3.8.10"
  }
 },
 "nbformat": 4,
 "nbformat_minor": 5
}
